{
 "cells": [
  {
   "cell_type": "markdown",
   "metadata": {},
   "source": [
    "## Standard RMM experiments\n",
    "\n",
    "This notebook accumulates experiments for all benchmark datasets that can be handled with standard reservoir memory machines, in particular the latch, copy, repeat copy, signal copy, and image copy task. FSM learning and associative recall require some special concepts and are handled in separate notebooks."
   ]
  },
  {
   "cell_type": "code",
   "execution_count": 1,
   "metadata": {},
   "outputs": [],
   "source": [
    "# in this first cell we set some experimental meta-parameters that are used across all\n",
    "# datasets\n",
    "\n",
    "# the number of training time series\n",
    "N = 90\n",
    "# the number of test time series\n",
    "N_test = 10\n",
    "# the number of repeats for the experiments\n",
    "R = 20\n",
    "# the names of the tasks to be performed\n",
    "tasks = ['latch', 'copy', 'repeat_copy', 'signal_copy', 'image_copy']\n",
    "# the number of neurons for each task\n",
    "num_neurons = [64, 256, 256, 64, 512]\n",
    "# the number of input dimensions for each task\n",
    "ns = [1, 9, 9, 2, 28]\n",
    "# the horizons for each task\n",
    "Ts = [256, 24, 16, 312, 32]"
   ]
  },
  {
   "cell_type": "markdown",
   "metadata": {},
   "source": [
    "## Hyperparameter Optimization"
   ]
  },
  {
   "cell_type": "code",
   "execution_count": 2,
   "metadata": {},
   "outputs": [],
   "source": [
    "# the number of hyperparameter combinations to be tested\n",
    "hyper_R = 20\n",
    "# the number of repeats for each hyperparameter combination\n",
    "hyper_num_repeats = 3\n",
    "# set the hyper-parameter ranges for all models\n",
    "models = ['RMM_LMU']\n",
    "hyperparam_ranges = {\n",
    "    'ESN' : {\n",
    "        'radius' : [0.5, 0.7, 0.9],\n",
    "        'sparsity' : [0.1, 0.2, 0.5],\n",
    "        'regul' : [1E-7, 1E-5, 1E-3]\n",
    "    },\n",
    "    'CRJ' : {\n",
    "        'v' : [0.1, 0.3, 0.5],\n",
    "        'w_c' : [0.1, 0.7, 0.9],\n",
    "        'w_j' : [0.1, 0.2, 0.4],\n",
    "        'l' : [4, 8, 16],\n",
    "        'regul' : [1E-7, 1E-5, 1E-3]\n",
    "    },\n",
    "    'LMU' : {\n",
    "        'regul' : [1E-7, 1E-5, 1E-3],\n",
    "        #'T' : [16, 32, 128, 384]\n",
    "    },\n",
    "    'RMM_ESN' : {\n",
    "        'radius' : [0.5, 0.7, 0.9],\n",
    "        'sparsity' : [0.1, 0.2, 0.5],\n",
    "        'regul' : [1E-7, 1E-5, 1E-3],\n",
    "        'C' : [1., 100., 10000.],\n",
    "        'svm_kernel' : ['linear', 'rbf'],\n",
    "        'lr': [1E-6, 5e-6, 1E-5, 5e-5, 1E-4, 5e-4, 1E-3],\n",
    "        'u': [0.1, 0.5, 0.8, 1.0]\n",
    "    },\n",
    "    'RMM_CRJ' : {\n",
    "        'v' : [0.1, 0.3, 0.5],\n",
    "        'w_c' : [0.1, 0.7, 0.9],\n",
    "        'w_j' : [0.1, 0.2, 0.4],\n",
    "        'l' : [4, 8, 16],\n",
    "        'regul' : [1E-7, 1E-5, 1E-3],\n",
    "        'C' : [1., 100., 10000.],\n",
    "        'svm_kernel' : ['linear', 'rbf'],\n",
    "        'lr': [1E-6, 5e-6, 1E-5, 5e-5, 1E-4, 5e-4, 1E-3],\n",
    "        'u': [0.1, 0.5, 0.8, 1.0]\n",
    "    },\n",
    "    'RMM_LMU' : {\n",
    "        'regul' : [1E-7, 1E-5, 1E-3],\n",
    "        'C' : [1., 100., 10000.],\n",
    "        #'T' : [16, 32, 128, 384],\n",
    "        'svm_kernel' : ['linear', 'rbf'],\n",
    "        'lr': [1E-6, 5e-6, 1E-5, 5e-5, 1E-4, 5e-4, 1E-3],\n",
    "        'u': [0.1, 0.5, 0.8, 1.0]\n",
    "    }\n",
    "}\n",
    "\n",
    "import numpy as np\n",
    "import rmm2.esn as esn\n",
    "import rmm2.crj as crj\n",
    "import rmm2.lmu as lmu\n",
    "import rmm2.rmm as rmm\n",
    "\n",
    "# set up a function to initialize an instance for each model\n",
    "def setup_model(model, m, n, hyperparams):\n",
    "    # first, set up the correct reservoir and nonlinearity\n",
    "    if model.endswith('ESN'):\n",
    "        U, W = esn.initialize_reservoir(m, n, radius = hyperparams['radius'],\n",
    "                                        sparsity = hyperparams['sparsity'])\n",
    "        nonlin = np.tanh\n",
    "    elif model.endswith('CRJ'):\n",
    "        U = crj.setup_input_weight_matrix(n, m, v = hyperparams['v'])\n",
    "        W = crj.setup_reservoir_matrix(m, w_c = hyperparams['w_c'],\n",
    "                                       w_j = hyperparams['w_j'], l = hyperparams['l'])\n",
    "        nonlin = np.tanh\n",
    "    elif model.endswith('LMU'):\n",
    "        degree = int(m/n)-1\n",
    "        U, W = lmu.initialize_reservoir(n, degree, hyperparams['T'])\n",
    "        nonlin = lambda x : x\n",
    "    else:\n",
    "        raise ValueError('Unknown model: %s' % model)\n",
    "    # then, set up the model\n",
    "    if not model.startswith('RMM_'):\n",
    "        net = esn.ESN(U, W, regul = hyperparams['regul'], input_normalization = False,\n",
    "                      nonlin = nonlin)\n",
    "    else:\n",
    "        net = rmm.RMM(U, W, lr = hyperparams['lr'], u = hyperparams['u'], regul = hyperparams['regul'], input_normalization = False,\n",
    "                      nonlin = nonlin, C = hyperparams['C'],\n",
    "                      svm_kernel = hyperparams['svm_kernel'])\n",
    "    return net"
   ]
  },
  {
   "cell_type": "markdown",
   "metadata": {},
   "source": [
    "## Experiment\n",
    "\n",
    "After all the hyperparameter setup above we can now iterate over all tasks and\n",
    "first perform hyperparameter optimization, followed by the actual experiment."
   ]
  },
  {
   "cell_type": "code",
   "execution_count": 3,
   "metadata": {
    "scrolled": true
   },
   "outputs": [
    {
     "name": "stdout",
     "output_type": "stream",
     "text": [
      "------ Task 1 of 5: latch -----\n",
      "performing hyperparameter optimization (this may take a while)\n",
      "--- repeat 1 of 3 ---\n",
      "-- model: RMM_LMU --\n"
     ]
    },
    {
     "name": "stderr",
     "output_type": "stream",
     "text": [
      "C:\\Users\\alok2\\AppData\\Local\\Programs\\Python\\Python37\\lib\\site-packages\\sklearn\\svm\\_base.py:249: ConvergenceWarning: Solver terminated early (max_iter=10000).  Consider pre-processing your data with StandardScaler or MinMaxScaler.\n",
      "  % self.max_iter, ConvergenceWarning)\n"
     ]
    },
    {
     "name": "stdout",
     "output_type": "stream",
     "text": [
      "State prediction recall: 0.989256; precision: 0.989256\n",
      "error: 0.597197\n",
      "State prediction recall: 0.959434; precision: 0.959434\n",
      "error: 0.698116\n"
     ]
    },
    {
     "name": "stderr",
     "output_type": "stream",
     "text": [
      "C:\\Users\\alok2\\AppData\\Local\\Programs\\Python\\Python37\\lib\\site-packages\\sklearn\\svm\\_base.py:249: ConvergenceWarning: Solver terminated early (max_iter=10000).  Consider pre-processing your data with StandardScaler or MinMaxScaler.\n",
      "  % self.max_iter, ConvergenceWarning)\n"
     ]
    },
    {
     "name": "stdout",
     "output_type": "stream",
     "text": [
      "State prediction recall: 0.999561; precision: 0.999561\n",
      "error: 0.000558587\n",
      "State prediction recall: 0.96974; precision: 0.96974\n",
      "error: 0.708318\n",
      "State prediction recall: 0.964587; precision: 0.964587\n",
      "error: 0.70729\n",
      "State prediction recall: 0.999561; precision: 0.999561\n",
      "error: 0.000542949\n",
      "State prediction recall: 0.96974; precision: 0.96974\n",
      "error: 0.708177\n"
     ]
    },
    {
     "name": "stderr",
     "output_type": "stream",
     "text": [
      "C:\\Users\\alok2\\AppData\\Local\\Programs\\Python\\Python37\\lib\\site-packages\\sklearn\\svm\\_base.py:249: ConvergenceWarning: Solver terminated early (max_iter=10000).  Consider pre-processing your data with StandardScaler or MinMaxScaler.\n",
      "  % self.max_iter, ConvergenceWarning)\n"
     ]
    },
    {
     "name": "stdout",
     "output_type": "stream",
     "text": [
      "State prediction recall: 0.989913; precision: 0.989913\n",
      "error: 0.596429\n",
      "State prediction recall: 0.999561; precision: 0.999561\n",
      "error: 0.00152964\n",
      "State prediction recall: 0.96974; precision: 0.96974\n",
      "error: 0.70905\n"
     ]
    },
    {
     "name": "stderr",
     "output_type": "stream",
     "text": [
      "C:\\Users\\alok2\\AppData\\Local\\Programs\\Python\\Python37\\lib\\site-packages\\sklearn\\svm\\_base.py:249: ConvergenceWarning: Solver terminated early (max_iter=10000).  Consider pre-processing your data with StandardScaler or MinMaxScaler.\n",
      "  % self.max_iter, ConvergenceWarning)\n"
     ]
    },
    {
     "name": "stdout",
     "output_type": "stream",
     "text": [
      "State prediction recall: 0.998575; precision: 0.998575\n",
      "error: 0.00362348\n",
      "State prediction recall: 0.96974; precision: 0.96974\n",
      "error: 0.704969\n",
      "State prediction recall: 0.982677; precision: 0.982677\n",
      "error: 0.596237\n",
      "State prediction recall: 0.96974; precision: 0.96974\n",
      "error: 0.70856\n"
     ]
    },
    {
     "name": "stderr",
     "output_type": "stream",
     "text": [
      "C:\\Users\\alok2\\AppData\\Local\\Programs\\Python\\Python37\\lib\\site-packages\\sklearn\\svm\\_base.py:249: ConvergenceWarning: Solver terminated early (max_iter=10000).  Consider pre-processing your data with StandardScaler or MinMaxScaler.\n",
      "  % self.max_iter, ConvergenceWarning)\n"
     ]
    },
    {
     "name": "stdout",
     "output_type": "stream",
     "text": [
      "State prediction recall: 0.999452; precision: 0.999452\n",
      "error: 0.0104859\n",
      "State prediction recall: 0.96974; precision: 0.96974\n",
      "error: 0.708829\n",
      "State prediction recall: 0.970398; precision: 0.970398\n",
      "error: 0.708927\n",
      "State prediction recall: 0.989256; precision: 0.989256\n",
      "error: 0.597422\n"
     ]
    },
    {
     "name": "stderr",
     "output_type": "stream",
     "text": [
      "C:\\Users\\alok2\\AppData\\Local\\Programs\\Python\\Python37\\lib\\site-packages\\sklearn\\svm\\_base.py:249: ConvergenceWarning: Solver terminated early (max_iter=10000).  Consider pre-processing your data with StandardScaler or MinMaxScaler.\n",
      "  % self.max_iter, ConvergenceWarning)\n"
     ]
    },
    {
     "name": "stdout",
     "output_type": "stream",
     "text": [
      "State prediction recall: 0.989256; precision: 0.989256\n",
      "error: 0.59697\n",
      "State prediction recall: 0.96974; precision: 0.96974\n",
      "error: 0.709654\n",
      "--- repeat 2 of 3 ---\n",
      "-- model: RMM_LMU --\n"
     ]
    },
    {
     "name": "stderr",
     "output_type": "stream",
     "text": [
      "C:\\Users\\alok2\\AppData\\Local\\Programs\\Python\\Python37\\lib\\site-packages\\sklearn\\svm\\_base.py:249: ConvergenceWarning: Solver terminated early (max_iter=10000).  Consider pre-processing your data with StandardScaler or MinMaxScaler.\n",
      "  % self.max_iter, ConvergenceWarning)\n"
     ]
    },
    {
     "name": "stdout",
     "output_type": "stream",
     "text": [
      "State prediction recall: 0.989511; precision: 0.989511\n",
      "error: 0.779603\n",
      "State prediction recall: 0.970459; precision: 0.970459\n",
      "error: 0.984642\n"
     ]
    },
    {
     "name": "stderr",
     "output_type": "stream",
     "text": [
      "C:\\Users\\alok2\\AppData\\Local\\Programs\\Python\\Python37\\lib\\site-packages\\sklearn\\svm\\_base.py:249: ConvergenceWarning: Solver terminated early (max_iter=10000).  Consider pre-processing your data with StandardScaler or MinMaxScaler.\n",
      "  % self.max_iter, ConvergenceWarning)\n"
     ]
    },
    {
     "name": "stdout",
     "output_type": "stream",
     "text": [
      "State prediction recall: 0.99315; precision: 0.99315\n",
      "error: 0.191355\n",
      "State prediction recall: 0.970459; precision: 0.970459\n",
      "error: 0.71389\n",
      "State prediction recall: 0.964572; precision: 0.964572\n",
      "error: 0.695853\n"
     ]
    },
    {
     "name": "stderr",
     "output_type": "stream",
     "text": [
      "C:\\Users\\alok2\\AppData\\Local\\Programs\\Python\\Python37\\lib\\site-packages\\sklearn\\svm\\_base.py:249: ConvergenceWarning: Solver terminated early (max_iter=10000).  Consider pre-processing your data with StandardScaler or MinMaxScaler.\n",
      "  % self.max_iter, ConvergenceWarning)\n"
     ]
    },
    {
     "name": "stdout",
     "output_type": "stream",
     "text": [
      "State prediction recall: 0.999572; precision: 0.999572\n",
      "error: 0.135888\n",
      "State prediction recall: 0.970459; precision: 0.970459\n",
      "error: 0.679323\n"
     ]
    },
    {
     "name": "stderr",
     "output_type": "stream",
     "text": [
      "C:\\Users\\alok2\\AppData\\Local\\Programs\\Python\\Python37\\lib\\site-packages\\sklearn\\svm\\_base.py:249: ConvergenceWarning: Solver terminated early (max_iter=10000).  Consider pre-processing your data with StandardScaler or MinMaxScaler.\n",
      "  % self.max_iter, ConvergenceWarning)\n"
     ]
    },
    {
     "name": "stdout",
     "output_type": "stream",
     "text": [
      "State prediction recall: 0.990046; precision: 0.990046\n",
      "error: 0.546495\n"
     ]
    },
    {
     "name": "stderr",
     "output_type": "stream",
     "text": [
      "C:\\Users\\alok2\\AppData\\Local\\Programs\\Python\\Python37\\lib\\site-packages\\sklearn\\svm\\_base.py:249: ConvergenceWarning: Solver terminated early (max_iter=10000).  Consider pre-processing your data with StandardScaler or MinMaxScaler.\n",
      "  % self.max_iter, ConvergenceWarning)\n"
     ]
    },
    {
     "name": "stdout",
     "output_type": "stream",
     "text": [
      "State prediction recall: 0.999572; precision: 0.999572\n",
      "error: 0.149075\n",
      "State prediction recall: 0.971101; precision: 0.971101\n",
      "error: 0.67891\n"
     ]
    },
    {
     "name": "stderr",
     "output_type": "stream",
     "text": [
      "C:\\Users\\alok2\\AppData\\Local\\Programs\\Python\\Python37\\lib\\site-packages\\sklearn\\svm\\_base.py:249: ConvergenceWarning: Solver terminated early (max_iter=10000).  Consider pre-processing your data with StandardScaler or MinMaxScaler.\n",
      "  % self.max_iter, ConvergenceWarning)\n"
     ]
    },
    {
     "name": "stdout",
     "output_type": "stream",
     "text": [
      "State prediction recall: 0.998609; precision: 0.998609\n",
      "error: 0.0950184\n",
      "State prediction recall: 0.970459; precision: 0.970459\n",
      "error: 0.682689\n",
      "State prediction recall: 0.986835; precision: 0.986835\n",
      "error: 0.718199\n",
      "State prediction recall: 0.970459; precision: 0.970459\n",
      "error: 0.682111\n"
     ]
    },
    {
     "name": "stderr",
     "output_type": "stream",
     "text": [
      "C:\\Users\\alok2\\AppData\\Local\\Programs\\Python\\Python37\\lib\\site-packages\\sklearn\\svm\\_base.py:249: ConvergenceWarning: Solver terminated early (max_iter=10000).  Consider pre-processing your data with StandardScaler or MinMaxScaler.\n",
      "  % self.max_iter, ConvergenceWarning)\n"
     ]
    },
    {
     "name": "stdout",
     "output_type": "stream",
     "text": [
      "State prediction recall: 0.999786; precision: 0.999786\n",
      "error: 0.119642\n",
      "State prediction recall: 0.970459; precision: 0.970459\n",
      "error: 0.875502\n",
      "State prediction recall: 0.971101; precision: 0.971101\n",
      "error: 0.681032\n",
      "State prediction recall: 0.989511; precision: 0.989511\n",
      "error: 0.680761\n"
     ]
    },
    {
     "name": "stderr",
     "output_type": "stream",
     "text": [
      "C:\\Users\\alok2\\AppData\\Local\\Programs\\Python\\Python37\\lib\\site-packages\\sklearn\\svm\\_base.py:249: ConvergenceWarning: Solver terminated early (max_iter=10000).  Consider pre-processing your data with StandardScaler or MinMaxScaler.\n",
      "  % self.max_iter, ConvergenceWarning)\n"
     ]
    },
    {
     "name": "stdout",
     "output_type": "stream",
     "text": [
      "State prediction recall: 0.989511; precision: 0.989511\n",
      "error: 0.72524\n",
      "State prediction recall: 0.970459; precision: 0.970459\n",
      "error: 0.695015\n",
      "--- repeat 3 of 3 ---\n",
      "-- model: RMM_LMU --\n"
     ]
    },
    {
     "name": "stderr",
     "output_type": "stream",
     "text": [
      "C:\\Users\\alok2\\AppData\\Local\\Programs\\Python\\Python37\\lib\\site-packages\\sklearn\\svm\\_base.py:249: ConvergenceWarning: Solver terminated early (max_iter=10000).  Consider pre-processing your data with StandardScaler or MinMaxScaler.\n",
      "  % self.max_iter, ConvergenceWarning)\n"
     ]
    },
    {
     "name": "stdout",
     "output_type": "stream",
     "text": [
      "State prediction recall: 0.989359; precision: 0.989359\n",
      "error: 0.56657\n",
      "State prediction recall: 0.970033; precision: 0.970033\n",
      "error: 0.712119\n"
     ]
    },
    {
     "name": "stderr",
     "output_type": "stream",
     "text": [
      "C:\\Users\\alok2\\AppData\\Local\\Programs\\Python\\Python37\\lib\\site-packages\\sklearn\\svm\\_base.py:249: ConvergenceWarning: Solver terminated early (max_iter=10000).  Consider pre-processing your data with StandardScaler or MinMaxScaler.\n",
      "  % self.max_iter, ConvergenceWarning)\n"
     ]
    },
    {
     "name": "stdout",
     "output_type": "stream",
     "text": [
      "State prediction recall: 0.999566; precision: 0.999566\n",
      "error: 0.000319808\n",
      "State prediction recall: 0.970033; precision: 0.970033\n",
      "error: 0.709665\n",
      "State prediction recall: 0.970033; precision: 0.970033\n",
      "error: 0.707874\n"
     ]
    },
    {
     "name": "stderr",
     "output_type": "stream",
     "text": [
      "C:\\Users\\alok2\\AppData\\Local\\Programs\\Python\\Python37\\lib\\site-packages\\sklearn\\svm\\_base.py:249: ConvergenceWarning: Solver terminated early (max_iter=10000).  Consider pre-processing your data with StandardScaler or MinMaxScaler.\n",
      "  % self.max_iter, ConvergenceWarning)\n"
     ]
    },
    {
     "name": "stdout",
     "output_type": "stream",
     "text": [
      "State prediction recall: 0.999783; precision: 0.999783\n",
      "error: 0.000447316\n",
      "State prediction recall: 0.970033; precision: 0.970033\n",
      "error: 0.709713\n"
     ]
    },
    {
     "name": "stderr",
     "output_type": "stream",
     "text": [
      "C:\\Users\\alok2\\AppData\\Local\\Programs\\Python\\Python37\\lib\\site-packages\\sklearn\\svm\\_base.py:249: ConvergenceWarning: Solver terminated early (max_iter=10000).  Consider pre-processing your data with StandardScaler or MinMaxScaler.\n",
      "  % self.max_iter, ConvergenceWarning)\n"
     ]
    },
    {
     "name": "stdout",
     "output_type": "stream",
     "text": [
      "State prediction recall: 0.990228; precision: 0.990228\n",
      "error: 0.566785\n"
     ]
    },
    {
     "name": "stderr",
     "output_type": "stream",
     "text": [
      "C:\\Users\\alok2\\AppData\\Local\\Programs\\Python\\Python37\\lib\\site-packages\\sklearn\\svm\\_base.py:249: ConvergenceWarning: Solver terminated early (max_iter=10000).  Consider pre-processing your data with StandardScaler or MinMaxScaler.\n",
      "  % self.max_iter, ConvergenceWarning)\n"
     ]
    },
    {
     "name": "stdout",
     "output_type": "stream",
     "text": [
      "State prediction recall: 0.999783; precision: 0.999783\n",
      "error: 0.00135159\n",
      "State prediction recall: 0.970901; precision: 0.970901\n",
      "error: 0.710361\n"
     ]
    },
    {
     "name": "stderr",
     "output_type": "stream",
     "text": [
      "C:\\Users\\alok2\\AppData\\Local\\Programs\\Python\\Python37\\lib\\site-packages\\sklearn\\svm\\_base.py:249: ConvergenceWarning: Solver terminated early (max_iter=10000).  Consider pre-processing your data with StandardScaler or MinMaxScaler.\n",
      "  % self.max_iter, ConvergenceWarning)\n"
     ]
    },
    {
     "name": "stdout",
     "output_type": "stream",
     "text": [
      "State prediction recall: 0.998914; precision: 0.998914\n",
      "error: 0.0024086\n",
      "State prediction recall: 0.970033; precision: 0.970033\n",
      "error: 0.707165\n",
      "State prediction recall: 0.986319; precision: 0.986319\n",
      "error: 0.56564\n",
      "State prediction recall: 0.970033; precision: 0.970033\n",
      "error: 0.709804\n"
     ]
    },
    {
     "name": "stderr",
     "output_type": "stream",
     "text": [
      "C:\\Users\\alok2\\AppData\\Local\\Programs\\Python\\Python37\\lib\\site-packages\\sklearn\\svm\\_base.py:249: ConvergenceWarning: Solver terminated early (max_iter=10000).  Consider pre-processing your data with StandardScaler or MinMaxScaler.\n",
      "  % self.max_iter, ConvergenceWarning)\n"
     ]
    },
    {
     "name": "stdout",
     "output_type": "stream",
     "text": [
      "State prediction recall: 0.999674; precision: 0.999674\n",
      "error: 0.00292629\n",
      "State prediction recall: 0.970033; precision: 0.970033\n",
      "error: 0.710004\n",
      "State prediction recall: 0.970901; precision: 0.970901\n",
      "error: 0.709536\n",
      "State prediction recall: 0.989359; precision: 0.989359\n",
      "error: 0.565752\n"
     ]
    },
    {
     "name": "stderr",
     "output_type": "stream",
     "text": [
      "C:\\Users\\alok2\\AppData\\Local\\Programs\\Python\\Python37\\lib\\site-packages\\sklearn\\svm\\_base.py:249: ConvergenceWarning: Solver terminated early (max_iter=10000).  Consider pre-processing your data with StandardScaler or MinMaxScaler.\n",
      "  % self.max_iter, ConvergenceWarning)\n"
     ]
    },
    {
     "name": "stdout",
     "output_type": "stream",
     "text": [
      "State prediction recall: 0.989359; precision: 0.989359\n",
      "error: 0.566112\n",
      "State prediction recall: 0.970033; precision: 0.970033\n",
      "error: 0.711791\n",
      "\n",
      "Selected the following hyper-parameters for RMM_LMU\n",
      "regul: 1e-07\n",
      "C: 100.0\n",
      "svm_kernel: rbf\n",
      "lr: 0.001\n",
      "u: 0.5\n",
      "errors: [0.003623477474822802, 0.09501838373196504, 0.002408599214835377]\n",
      "T: 256\n",
      "--- repeat 1 of 20 ---\n"
     ]
    },
    {
     "name": "stderr",
     "output_type": "stream",
     "text": [
      "C:\\Users\\alok2\\AppData\\Local\\Programs\\Python\\Python37\\lib\\site-packages\\sklearn\\svm\\_base.py:249: ConvergenceWarning: Solver terminated early (max_iter=10000).  Consider pre-processing your data with StandardScaler or MinMaxScaler.\n",
      "  % self.max_iter, ConvergenceWarning)\n"
     ]
    },
    {
     "name": "stdout",
     "output_type": "stream",
     "text": [
      "State prediction recall: 0.998405; precision: 0.998405\n",
      "--- repeat 2 of 20 ---\n"
     ]
    },
    {
     "name": "stderr",
     "output_type": "stream",
     "text": [
      "C:\\Users\\alok2\\AppData\\Local\\Programs\\Python\\Python37\\lib\\site-packages\\sklearn\\svm\\_base.py:249: ConvergenceWarning: Solver terminated early (max_iter=10000).  Consider pre-processing your data with StandardScaler or MinMaxScaler.\n",
      "  % self.max_iter, ConvergenceWarning)\n"
     ]
    },
    {
     "name": "stdout",
     "output_type": "stream",
     "text": [
      "State prediction recall: 0.997927; precision: 0.997927\n",
      "--- repeat 3 of 20 ---\n"
     ]
    },
    {
     "name": "stderr",
     "output_type": "stream",
     "text": [
      "C:\\Users\\alok2\\AppData\\Local\\Programs\\Python\\Python37\\lib\\site-packages\\sklearn\\svm\\_base.py:249: ConvergenceWarning: Solver terminated early (max_iter=10000).  Consider pre-processing your data with StandardScaler or MinMaxScaler.\n",
      "  % self.max_iter, ConvergenceWarning)\n"
     ]
    },
    {
     "name": "stdout",
     "output_type": "stream",
     "text": [
      "State prediction recall: 0.998579; precision: 0.998579\n",
      "--- repeat 4 of 20 ---\n"
     ]
    },
    {
     "name": "stderr",
     "output_type": "stream",
     "text": [
      "C:\\Users\\alok2\\AppData\\Local\\Programs\\Python\\Python37\\lib\\site-packages\\sklearn\\svm\\_base.py:249: ConvergenceWarning: Solver terminated early (max_iter=10000).  Consider pre-processing your data with StandardScaler or MinMaxScaler.\n",
      "  % self.max_iter, ConvergenceWarning)\n"
     ]
    },
    {
     "name": "stdout",
     "output_type": "stream",
     "text": [
      "State prediction recall: 0.998763; precision: 0.998763\n",
      "--- repeat 5 of 20 ---\n"
     ]
    },
    {
     "name": "stderr",
     "output_type": "stream",
     "text": [
      "C:\\Users\\alok2\\AppData\\Local\\Programs\\Python\\Python37\\lib\\site-packages\\sklearn\\svm\\_base.py:249: ConvergenceWarning: Solver terminated early (max_iter=10000).  Consider pre-processing your data with StandardScaler or MinMaxScaler.\n",
      "  % self.max_iter, ConvergenceWarning)\n"
     ]
    },
    {
     "name": "stdout",
     "output_type": "stream",
     "text": [
      "State prediction recall: 0.99907; precision: 0.99907\n",
      "--- repeat 6 of 20 ---\n"
     ]
    },
    {
     "name": "stderr",
     "output_type": "stream",
     "text": [
      "C:\\Users\\alok2\\AppData\\Local\\Programs\\Python\\Python37\\lib\\site-packages\\sklearn\\svm\\_base.py:249: ConvergenceWarning: Solver terminated early (max_iter=10000).  Consider pre-processing your data with StandardScaler or MinMaxScaler.\n",
      "  % self.max_iter, ConvergenceWarning)\n"
     ]
    },
    {
     "name": "stdout",
     "output_type": "stream",
     "text": [
      "State prediction recall: 0.999362; precision: 0.999362\n",
      "--- repeat 7 of 20 ---\n"
     ]
    },
    {
     "name": "stderr",
     "output_type": "stream",
     "text": [
      "C:\\Users\\alok2\\AppData\\Local\\Programs\\Python\\Python37\\lib\\site-packages\\sklearn\\svm\\_base.py:249: ConvergenceWarning: Solver terminated early (max_iter=10000).  Consider pre-processing your data with StandardScaler or MinMaxScaler.\n",
      "  % self.max_iter, ConvergenceWarning)\n"
     ]
    },
    {
     "name": "stdout",
     "output_type": "stream",
     "text": [
      "State prediction recall: 0.998367; precision: 0.998367\n",
      "--- repeat 8 of 20 ---\n"
     ]
    },
    {
     "name": "stderr",
     "output_type": "stream",
     "text": [
      "C:\\Users\\alok2\\AppData\\Local\\Programs\\Python\\Python37\\lib\\site-packages\\sklearn\\svm\\_base.py:249: ConvergenceWarning: Solver terminated early (max_iter=10000).  Consider pre-processing your data with StandardScaler or MinMaxScaler.\n",
      "  % self.max_iter, ConvergenceWarning)\n"
     ]
    },
    {
     "name": "stdout",
     "output_type": "stream",
     "text": [
      "State prediction recall: 0.998678; precision: 0.998678\n",
      "--- repeat 9 of 20 ---\n"
     ]
    },
    {
     "name": "stderr",
     "output_type": "stream",
     "text": [
      "C:\\Users\\alok2\\AppData\\Local\\Programs\\Python\\Python37\\lib\\site-packages\\sklearn\\svm\\_base.py:249: ConvergenceWarning: Solver terminated early (max_iter=10000).  Consider pre-processing your data with StandardScaler or MinMaxScaler.\n",
      "  % self.max_iter, ConvergenceWarning)\n"
     ]
    },
    {
     "name": "stdout",
     "output_type": "stream",
     "text": [
      "State prediction recall: 0.999009; precision: 0.999009\n",
      "--- repeat 10 of 20 ---\n"
     ]
    },
    {
     "name": "stderr",
     "output_type": "stream",
     "text": [
      "C:\\Users\\alok2\\AppData\\Local\\Programs\\Python\\Python37\\lib\\site-packages\\sklearn\\svm\\_base.py:249: ConvergenceWarning: Solver terminated early (max_iter=10000).  Consider pre-processing your data with StandardScaler or MinMaxScaler.\n",
      "  % self.max_iter, ConvergenceWarning)\n"
     ]
    },
    {
     "name": "stdout",
     "output_type": "stream",
     "text": [
      "State prediction recall: 0.998702; precision: 0.998702\n",
      "--- repeat 11 of 20 ---\n"
     ]
    },
    {
     "name": "stderr",
     "output_type": "stream",
     "text": [
      "C:\\Users\\alok2\\AppData\\Local\\Programs\\Python\\Python37\\lib\\site-packages\\sklearn\\svm\\_base.py:249: ConvergenceWarning: Solver terminated early (max_iter=10000).  Consider pre-processing your data with StandardScaler or MinMaxScaler.\n",
      "  % self.max_iter, ConvergenceWarning)\n"
     ]
    },
    {
     "name": "stdout",
     "output_type": "stream",
     "text": [
      "State prediction recall: 0.999061; precision: 0.999061\n",
      "--- repeat 12 of 20 ---\n"
     ]
    },
    {
     "name": "stderr",
     "output_type": "stream",
     "text": [
      "C:\\Users\\alok2\\AppData\\Local\\Programs\\Python\\Python37\\lib\\site-packages\\sklearn\\svm\\_base.py:249: ConvergenceWarning: Solver terminated early (max_iter=10000).  Consider pre-processing your data with StandardScaler or MinMaxScaler.\n",
      "  % self.max_iter, ConvergenceWarning)\n"
     ]
    },
    {
     "name": "stdout",
     "output_type": "stream",
     "text": [
      "State prediction recall: 0.998544; precision: 0.998544\n",
      "--- repeat 13 of 20 ---\n"
     ]
    },
    {
     "name": "stderr",
     "output_type": "stream",
     "text": [
      "C:\\Users\\alok2\\AppData\\Local\\Programs\\Python\\Python37\\lib\\site-packages\\sklearn\\svm\\_base.py:249: ConvergenceWarning: Solver terminated early (max_iter=10000).  Consider pre-processing your data with StandardScaler or MinMaxScaler.\n",
      "  % self.max_iter, ConvergenceWarning)\n"
     ]
    },
    {
     "name": "stdout",
     "output_type": "stream",
     "text": [
      "State prediction recall: 0.998979; precision: 0.998979\n",
      "--- repeat 14 of 20 ---\n"
     ]
    },
    {
     "name": "stderr",
     "output_type": "stream",
     "text": [
      "C:\\Users\\alok2\\AppData\\Local\\Programs\\Python\\Python37\\lib\\site-packages\\sklearn\\svm\\_base.py:249: ConvergenceWarning: Solver terminated early (max_iter=10000).  Consider pre-processing your data with StandardScaler or MinMaxScaler.\n",
      "  % self.max_iter, ConvergenceWarning)\n"
     ]
    },
    {
     "name": "stdout",
     "output_type": "stream",
     "text": [
      "State prediction recall: 0.998828; precision: 0.998828\n",
      "--- repeat 15 of 20 ---\n"
     ]
    },
    {
     "name": "stderr",
     "output_type": "stream",
     "text": [
      "C:\\Users\\alok2\\AppData\\Local\\Programs\\Python\\Python37\\lib\\site-packages\\sklearn\\svm\\_base.py:249: ConvergenceWarning: Solver terminated early (max_iter=10000).  Consider pre-processing your data with StandardScaler or MinMaxScaler.\n",
      "  % self.max_iter, ConvergenceWarning)\n"
     ]
    },
    {
     "name": "stdout",
     "output_type": "stream",
     "text": [
      "State prediction recall: 0.999021; precision: 0.999021\n",
      "--- repeat 16 of 20 ---\n"
     ]
    },
    {
     "name": "stderr",
     "output_type": "stream",
     "text": [
      "C:\\Users\\alok2\\AppData\\Local\\Programs\\Python\\Python37\\lib\\site-packages\\sklearn\\svm\\_base.py:249: ConvergenceWarning: Solver terminated early (max_iter=10000).  Consider pre-processing your data with StandardScaler or MinMaxScaler.\n",
      "  % self.max_iter, ConvergenceWarning)\n"
     ]
    },
    {
     "name": "stdout",
     "output_type": "stream",
     "text": [
      "State prediction recall: 0.998824; precision: 0.998824\n",
      "--- repeat 17 of 20 ---\n"
     ]
    },
    {
     "name": "stderr",
     "output_type": "stream",
     "text": [
      "C:\\Users\\alok2\\AppData\\Local\\Programs\\Python\\Python37\\lib\\site-packages\\sklearn\\svm\\_base.py:249: ConvergenceWarning: Solver terminated early (max_iter=10000).  Consider pre-processing your data with StandardScaler or MinMaxScaler.\n",
      "  % self.max_iter, ConvergenceWarning)\n"
     ]
    },
    {
     "name": "stdout",
     "output_type": "stream",
     "text": [
      "State prediction recall: 0.998312; precision: 0.998312\n",
      "--- repeat 18 of 20 ---\n"
     ]
    },
    {
     "name": "stderr",
     "output_type": "stream",
     "text": [
      "C:\\Users\\alok2\\AppData\\Local\\Programs\\Python\\Python37\\lib\\site-packages\\sklearn\\svm\\_base.py:249: ConvergenceWarning: Solver terminated early (max_iter=10000).  Consider pre-processing your data with StandardScaler or MinMaxScaler.\n",
      "  % self.max_iter, ConvergenceWarning)\n"
     ]
    },
    {
     "name": "stdout",
     "output_type": "stream",
     "text": [
      "State prediction recall: 0.998974; precision: 0.998974\n",
      "--- repeat 19 of 20 ---\n"
     ]
    },
    {
     "name": "stderr",
     "output_type": "stream",
     "text": [
      "C:\\Users\\alok2\\AppData\\Local\\Programs\\Python\\Python37\\lib\\site-packages\\sklearn\\svm\\_base.py:249: ConvergenceWarning: Solver terminated early (max_iter=10000).  Consider pre-processing your data with StandardScaler or MinMaxScaler.\n",
      "  % self.max_iter, ConvergenceWarning)\n"
     ]
    },
    {
     "name": "stdout",
     "output_type": "stream",
     "text": [
      "State prediction recall: 0.999162; precision: 0.999162\n",
      "--- repeat 20 of 20 ---\n"
     ]
    },
    {
     "name": "stderr",
     "output_type": "stream",
     "text": [
      "C:\\Users\\alok2\\AppData\\Local\\Programs\\Python\\Python37\\lib\\site-packages\\sklearn\\svm\\_base.py:249: ConvergenceWarning: Solver terminated early (max_iter=10000).  Consider pre-processing your data with StandardScaler or MinMaxScaler.\n",
      "  % self.max_iter, ConvergenceWarning)\n"
     ]
    },
    {
     "name": "stdout",
     "output_type": "stream",
     "text": [
      "State prediction recall: 0.998545; precision: 0.998545\n",
      "RMM_LMU: 0.00921672 +- 0.0367357 (took 1.91521 seconds)\n"
     ]
    }
   ],
   "source": [
    "import json\n",
    "import os\n",
    "import random\n",
    "import time\n",
    "from dataset_generators import generate_data\n",
    "from dataset_generators import _permutation_sampling\n",
    "\n",
    "# iterate over all tasks\n",
    "for task_idx in range(len(tasks)):\n",
    "    task = tasks[task_idx]\n",
    "    print('------ Task %d of %d: %s -----' % (task_idx+1, len(tasks), task))\n",
    "    m = num_neurons[task_idx]\n",
    "    n = ns[task_idx]\n",
    "    # try to load the selected hyperparameters from file\n",
    "    hyperparam_path = '%s_hyperparams.json' % task\n",
    "    if os.path.isfile(hyperparam_path):\n",
    "        print('loading hyperparameters from %s' % hyperparam_path)\n",
    "        with open(hyperparam_path, 'r') as hyperparam_file:\n",
    "            hyperparams = json.load(hyperparam_file)\n",
    "    else:\n",
    "        # perform a hyperoptimization where we test R random hyperparameter\n",
    "        # settings for each model and perform num_repeats repeats to obtain\n",
    "        # statistics. The hyperparameters with the best mean performance across\n",
    "        # repeats will be selected\n",
    "        print('performing hyperparameter optimization (this may take a while)')\n",
    "        # generate random parameter combination for all models\n",
    "        hyperparams = {}\n",
    "        for model in models:\n",
    "            # initialize a hyperparameter dictionary for each combination\n",
    "            hyperparams[model] = []\n",
    "            for r in range(hyper_R):\n",
    "                hyperparams[model].append({})\n",
    "            # then iterate over each key and sample the parameter values\n",
    "            for key in hyperparam_ranges[model]:\n",
    "                param_range = hyperparam_ranges[model][key]\n",
    "                param_value_indices = _permutation_sampling(hyper_R, 0, len(param_range)-1)\n",
    "                for r in range(hyper_R):\n",
    "                    value = param_range[param_value_indices[r]]\n",
    "                    hyperparams[model][r][key] = value\n",
    "            for r in range(hyper_R):\n",
    "                # set up an extra key for the errors\n",
    "                hyperparams[model][r]['errors'] = []\n",
    "                # for the signal_copy dataset, use the 'pseudo' SVM, because everything\n",
    "                # else takes too long to train\n",
    "                if task == 'signal_copy' and model.startswith('RMM'):\n",
    "                    hyperparams[model][r]['svm_kernel'] = 'pseudo'\n",
    "                # set time horizon for LMU models\n",
    "                if model.endswith('LMU'):\n",
    "                    hyperparams[model][r]['T'] = Ts[task_idx]\n",
    "\n",
    "        for repeat in range(hyper_num_repeats):\n",
    "            print('--- repeat %d of %d ---' % (repeat+1, hyper_num_repeats))\n",
    "            # sample training and test data\n",
    "            Xs, Qs, Ys = generate_data(N, task)\n",
    "            Xs_test, Qs_test, Ys_test = generate_data(N_test, task)\n",
    "            # now iterate over all models\n",
    "            for model in models:\n",
    "                print('-- model: %s --' % model)\n",
    "                # and iterate over all parameter combinations for this model\n",
    "                for params_r in hyperparams[model]:\n",
    "                    # set up a model instance\n",
    "                    net = setup_model(model, m, n, params_r)\n",
    "                    # fit the model to the data\n",
    "                    if model.startswith('RMM_'):\n",
    "                        net.fit(Xs, Qs, Ys)\n",
    "                    else:\n",
    "                        net.fit(Xs, Ys)\n",
    "                    # measure the RMSE on the test data\n",
    "                    mse = 0.\n",
    "                    for i in range(N_test):\n",
    "                        Ypred = net.predict(Xs_test[i])\n",
    "                        mse   += np.mean((Ypred - Ys_test[i]) ** 2)\n",
    "                    rmse = np.sqrt(mse / N_test)\n",
    "                    params_r['errors'].append(rmse)\n",
    "                    print('error: %g' % rmse)\n",
    "        # write the results to a JSON file\n",
    "        with open(hyperparam_path, 'w') as hyperparam_file:\n",
    "            json.dump(hyperparams, hyperparam_file)\n",
    "\n",
    "    # select best hyperparameters for each model\n",
    "    hyperparams_opt = {}\n",
    "    for model in models:\n",
    "        min_err = np.inf\n",
    "        for params_r in hyperparams[model]:\n",
    "            if np.mean(params_r['errors']) < min_err:\n",
    "                min_err = np.mean(params_r['errors'])\n",
    "                hyperparams_opt[model] = params_r\n",
    "        print('\\nSelected the following hyper-parameters for %s' % model)\n",
    "        for key in hyperparams_opt[model]:\n",
    "            print('%s: %s' % (key, str(hyperparams_opt[model][key])))\n",
    "    # hyperparameter optimization complete\n",
    "    \n",
    "    # ACTUAL EXPERIMENT\n",
    "\n",
    "    # initialize error and runtime arrays\n",
    "    errors   = np.zeros((len(models), R))\n",
    "    runtimes = np.zeros((len(models), R))\n",
    "    # iterate over all experimental repeats\n",
    "    for r in range(R):\n",
    "        print('--- repeat %d of %d ---' % (r+1, R))\n",
    "        # sample training and test data\n",
    "        Xs, Qs, Ys = generate_data(N, task)\n",
    "        Xs_test, Qs_test, Ys_test = generate_data(N_test, task)\n",
    "        # now iterate over all models\n",
    "        for model_idx in range(len(models)):\n",
    "            model = models[model_idx]\n",
    "            # print('-- model: %s --' % model)\n",
    "            # set up the model with the best selected hyperparameters\n",
    "            start_time = time.time()\n",
    "            net = setup_model(model, m, n, hyperparams_opt[model])\n",
    "            # fit the model to the data\n",
    "            if model.startswith('RMM_'):\n",
    "                net.fit(Xs, Qs, Ys)\n",
    "            else:\n",
    "                net.fit(Xs, Ys)\n",
    "            # measure the RMSE on the test data\n",
    "            mse = 0.\n",
    "            for i in range(N_test):\n",
    "                Ypred = net.predict(Xs_test[i])\n",
    "                mse   += np.mean((Ypred - Ys_test[i]) ** 2)\n",
    "            rmse = np.sqrt(mse / N_test)\n",
    "            runtimes[model_idx, r] = time.time() - start_time\n",
    "            errors[model_idx, r] = rmse\n",
    "    # print results\n",
    "    for model_idx in range(len(models)):\n",
    "        print('%s: %g +- %g (took %g seconds)' % (models[model_idx], np.mean(errors[model_idx, :]), np.std(errors[model_idx, :]), np.mean(runtimes[model_idx, :])))\n",
    "    # write results to file\n",
    "    np.savetxt('%s_errors.csv' % task, errors.T, delimiter='\\t', header='\\t'.join(models), comments='')\n",
    "    np.savetxt('%s_runtimes.csv' % task, runtimes.T, delimiter='\\t', header='\\t'.join(models), comments='')"
   ]
  }
 ],
 "metadata": {
  "interpreter": {
   "hash": "e1365735ce637560aa124fd0413d7f43902b449fdc75b168617a49a18bef1f7d"
  },
  "kernelspec": {
   "display_name": "Python 3.7.8 64-bit",
   "name": "python3"
  },
  "language_info": {
   "codemirror_mode": {
    "name": "ipython",
    "version": 3
   },
   "file_extension": ".py",
   "mimetype": "text/x-python",
   "name": "python",
   "nbconvert_exporter": "python",
   "pygments_lexer": "ipython3",
   "version": "3.7.8"
  }
 },
 "nbformat": 4,
 "nbformat_minor": 2
}
